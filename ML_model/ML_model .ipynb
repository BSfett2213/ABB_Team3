{
 "cells": [
  {
   "cell_type": "code",
   "execution_count": 1,
   "id": "efd97d89-63a0-4ac5-85cd-16f5beea2f50",
   "metadata": {},
   "outputs": [
    {
     "name": "stdout",
     "output_type": "stream",
     "text": [
      "Collecting kaggle\n",
      "  Downloading kaggle-1.7.4.5-py3-none-any.whl.metadata (16 kB)\n",
      "Requirement already satisfied: bleach in c:\\users\\garima joshi\\anaconda3\\lib\\site-packages (from kaggle) (4.1.0)\n",
      "Requirement already satisfied: certifi>=14.05.14 in c:\\users\\garima joshi\\anaconda3\\lib\\site-packages (from kaggle) (2024.8.30)\n",
      "Requirement already satisfied: charset-normalizer in c:\\users\\garima joshi\\anaconda3\\lib\\site-packages (from kaggle) (3.3.2)\n",
      "Requirement already satisfied: idna in c:\\users\\garima joshi\\anaconda3\\lib\\site-packages (from kaggle) (3.7)\n",
      "Requirement already satisfied: protobuf in c:\\users\\garima joshi\\anaconda3\\lib\\site-packages (from kaggle) (4.25.3)\n",
      "Requirement already satisfied: python-dateutil>=2.5.3 in c:\\users\\garima joshi\\anaconda3\\lib\\site-packages (from kaggle) (2.9.0.post0)\n",
      "Requirement already satisfied: python-slugify in c:\\users\\garima joshi\\anaconda3\\lib\\site-packages (from kaggle) (5.0.2)\n",
      "Requirement already satisfied: requests in c:\\users\\garima joshi\\anaconda3\\lib\\site-packages (from kaggle) (2.32.3)\n",
      "Requirement already satisfied: setuptools>=21.0.0 in c:\\users\\garima joshi\\anaconda3\\lib\\site-packages (from kaggle) (75.1.0)\n",
      "Requirement already satisfied: six>=1.10 in c:\\users\\garima joshi\\anaconda3\\lib\\site-packages (from kaggle) (1.16.0)\n",
      "Requirement already satisfied: text-unidecode in c:\\users\\garima joshi\\anaconda3\\lib\\site-packages (from kaggle) (1.3)\n",
      "Requirement already satisfied: tqdm in c:\\users\\garima joshi\\anaconda3\\lib\\site-packages (from kaggle) (4.66.5)\n",
      "Requirement already satisfied: urllib3>=1.15.1 in c:\\users\\garima joshi\\anaconda3\\lib\\site-packages (from kaggle) (2.2.3)\n",
      "Requirement already satisfied: webencodings in c:\\users\\garima joshi\\anaconda3\\lib\\site-packages (from kaggle) (0.5.1)\n",
      "Requirement already satisfied: packaging in c:\\users\\garima joshi\\anaconda3\\lib\\site-packages (from bleach->kaggle) (24.1)\n",
      "Requirement already satisfied: colorama in c:\\users\\garima joshi\\anaconda3\\lib\\site-packages (from tqdm->kaggle) (0.4.6)\n",
      "Downloading kaggle-1.7.4.5-py3-none-any.whl (181 kB)\n",
      "Installing collected packages: kaggle\n",
      "Successfully installed kaggle-1.7.4.5\n",
      "Note: you may need to restart the kernel to use updated packages.\n"
     ]
    }
   ],
   "source": [
    "pip install kaggle\n"
   ]
  },
  {
   "cell_type": "code",
   "execution_count": 7,
   "id": "f6c36120-dc08-42e7-bc29-fb801b785239",
   "metadata": {},
   "outputs": [
    {
     "name": "stdout",
     "output_type": "stream",
     "text": [
      "C:\\Users\\Garima Joshi\n"
     ]
    }
   ],
   "source": [
    "import os\n",
    "print(os.getcwd())\n"
   ]
  },
  {
   "cell_type": "code",
   "execution_count": 9,
   "id": "94f5afaf-1d28-48b1-9005-2ab3f106922f",
   "metadata": {},
   "outputs": [
    {
     "data": {
      "text/plain": [
       "'C:\\\\Users\\\\Garima Joshi/.kaggle\\\\kaggle.json'"
      ]
     },
     "execution_count": 9,
     "metadata": {},
     "output_type": "execute_result"
    }
   ],
   "source": [
    "shutil.move(r\"C:\\Users\\Garima Joshi\\Downloads\\kaggle.json\", os.path.join(kaggle_dir, \"kaggle.json\"))\n"
   ]
  },
  {
   "cell_type": "code",
   "execution_count": 11,
   "id": "5f80105c-24c0-4c0a-9227-8c1b5417b12d",
   "metadata": {},
   "outputs": [],
   "source": [
    "os.environ['KAGGLE_CONFIG_DIR'] = kaggle_dir\n"
   ]
  },
  {
   "cell_type": "code",
   "execution_count": 13,
   "id": "f8441cf8-6b7f-411b-983d-01bfef8a426a",
   "metadata": {},
   "outputs": [
    {
     "name": "stdout",
     "output_type": "stream",
     "text": [
      "ref                                                                              deadline             category                reward  teamCount  userHasEntered  \n",
      "-------------------------------------------------------------------------------  -------------------  ---------------  -------------  ---------  --------------  \n",
      "https://www.kaggle.com/competitions/arc-prize-2025                               2025-11-03 23:59:00  Featured         1,000,000 Usd        864           False  \n",
      "https://www.kaggle.com/competitions/openai-gpt-oss-20b-red-teaming               2025-08-26 23:59:00  Featured           500,000 Usd          0           False  \n",
      "https://www.kaggle.com/competitions/make-data-count-finding-data-references      2025-09-09 23:59:00  Research           100,000 Usd       1098           False  \n",
      "https://www.kaggle.com/competitions/jigsaw-agile-community-rules                 2025-10-24 06:59:00  Featured           100,000 Usd        936           False  \n",
      "https://www.kaggle.com/competitions/mitsui-commodity-prediction-challenge        2025-10-06 23:59:00  Featured           100,000 Usd        624           False  \n",
      "https://www.kaggle.com/competitions/google-code-golf-2025                        2025-10-30 23:59:00  Research           100,000 Usd        424           False  \n",
      "https://www.kaggle.com/competitions/bigquery-ai-hackathon                        2025-09-22 23:59:00  Featured           100,000 Usd          0           False  \n",
      "https://www.kaggle.com/competitions/map-charting-student-math-misunderstandings  2025-10-15 23:59:00  Featured            55,000 Usd        934           False  \n",
      "https://www.kaggle.com/competitions/cmi-detect-behavior-with-sensor-data         2025-09-02 23:59:00  Featured            50,000 Usd       2529           False  \n",
      "https://www.kaggle.com/competitions/neurips-open-polymer-prediction-2025         2025-09-15 23:59:00  Featured            50,000 Usd       1791           False  \n",
      "https://www.kaggle.com/competitions/ariel-data-challenge-2025                    2025-09-24 23:59:00  Featured            50,000 Usd        532           False  \n",
      "https://www.kaggle.com/competitions/rsna-intracranial-aneurysm-detection         2025-10-14 23:59:00  Featured            50,000 Usd        361           False  \n",
      "https://www.kaggle.com/competitions/playground-series-s5e8                       2025-08-31 23:59:00  Playground                Swag       2291           False  \n",
      "https://www.kaggle.com/competitions/titanic                                      2030-01-01 00:00:00  Getting Started      Knowledge      13825           False  \n",
      "https://www.kaggle.com/competitions/home-data-for-ml-course                      2030-01-01 23:59:00  Getting Started      Knowledge       6051           False  \n",
      "https://www.kaggle.com/competitions/house-prices-advanced-regression-techniques  2030-01-01 00:00:00  Getting Started      Knowledge       4288           False  \n",
      "https://www.kaggle.com/competitions/spaceship-titanic                            2030-01-01 00:00:00  Getting Started      Knowledge       1729           False  \n",
      "https://www.kaggle.com/competitions/digit-recognizer                             2030-01-01 00:00:00  Getting Started      Knowledge       1033           False  \n",
      "https://www.kaggle.com/competitions/nlp-getting-started                          2030-01-01 00:00:00  Getting Started      Knowledge        661           False  \n",
      "https://www.kaggle.com/competitions/store-sales-time-series-forecasting          2030-06-30 23:59:00  Getting Started      Knowledge        612           False  \n"
     ]
    }
   ],
   "source": [
    "!kaggle competitions list\n"
   ]
  },
  {
   "cell_type": "code",
   "execution_count": 15,
   "id": "267346cd-d378-4aec-bf2b-b071dc248ee1",
   "metadata": {},
   "outputs": [
    {
     "name": "stdout",
     "output_type": "stream",
     "text": [
      "403 Client Error: Forbidden for url: https://www.kaggle.com/api/v1/competitions/data/download-all/bosch-production-line-performance\n"
     ]
    }
   ],
   "source": [
    "!kaggle competitions download -c bosch-production-line-performance -p ./bosch_data\n"
   ]
  },
  {
   "cell_type": "code",
   "execution_count": null,
   "id": "eaea2d3b-bade-4670-ba3f-02176a3fcc22",
   "metadata": {},
   "outputs": [],
   "source": [
    "!kaggle competitions download -c bosch-production-line-performance -p ./bosch_data\n"
   ]
  },
  {
   "cell_type": "code",
   "execution_count": 18,
   "id": "4132d86c-7715-406e-83c5-240fe5420822",
   "metadata": {},
   "outputs": [
    {
     "name": "stdout",
     "output_type": "stream",
     "text": [
      "['bosch-production-line-performance.zip']\n"
     ]
    }
   ],
   "source": [
    "import os\n",
    "print(os.listdir(\"./bosch_data\"))\n"
   ]
  },
  {
   "cell_type": "code",
   "execution_count": 20,
   "id": "242bb263-bb25-4f53-82a7-56abf98a558a",
   "metadata": {},
   "outputs": [],
   "source": [
    "import zipfile\n",
    "\n",
    "with zipfile.ZipFile(\"./bosch_data/bosch-production-line-performance.zip\", 'r') as zip_ref:\n",
    "    zip_ref.extractall(\"./bosch_data\")\n"
   ]
  },
  {
   "cell_type": "code",
   "execution_count": 23,
   "id": "3981425e-3999-4227-8d15-e0ddacc4e2a4",
   "metadata": {},
   "outputs": [
    {
     "name": "stdout",
     "output_type": "stream",
     "text": [
      "['bosch-production-line-performance.zip', 'sample_submission.csv.zip', 'test_categorical.csv.zip', 'test_date.csv.zip', 'test_numeric.csv.zip', 'train_categorical.csv.zip', 'train_date.csv.zip', 'train_numeric.csv.zip']\n"
     ]
    }
   ],
   "source": [
    "print(os.listdir(\"./bosch_data\"))\n"
   ]
  },
  {
   "cell_type": "code",
   "execution_count": 25,
   "id": "db61f6bd-e66a-44fa-b474-5d71aba04719",
   "metadata": {},
   "outputs": [
    {
     "name": "stdout",
     "output_type": "stream",
     "text": [
      "(50000, 970)\n",
      "   Id  L0_S0_F0  L0_S0_F2  L0_S0_F4  L0_S0_F6  L0_S0_F8  L0_S0_F10  L0_S0_F12  \\\n",
      "0   4     0.030    -0.034    -0.197    -0.179     0.118      0.116     -0.015   \n",
      "1   6       NaN       NaN       NaN       NaN       NaN        NaN        NaN   \n",
      "2   7     0.088     0.086     0.003    -0.052     0.161      0.025     -0.015   \n",
      "3   9    -0.036    -0.064     0.294     0.330     0.074      0.161      0.022   \n",
      "4  11    -0.055    -0.086     0.294     0.330     0.118      0.025      0.030   \n",
      "\n",
      "   L0_S0_F14  L0_S0_F16  ...  L3_S50_F4245  L3_S50_F4247  L3_S50_F4249  \\\n",
      "0     -0.032      0.020  ...           NaN           NaN           NaN   \n",
      "1        NaN        NaN  ...           NaN           NaN           NaN   \n",
      "2     -0.072     -0.225  ...           NaN           NaN           NaN   \n",
      "3      0.128     -0.026  ...           NaN           NaN           NaN   \n",
      "4      0.168     -0.169  ...           NaN           NaN           NaN   \n",
      "\n",
      "   L3_S50_F4251  L3_S50_F4253  L3_S51_F4256  L3_S51_F4258  L3_S51_F4260  \\\n",
      "0           NaN           NaN           NaN           NaN           NaN   \n",
      "1           NaN           NaN           NaN           NaN           NaN   \n",
      "2           NaN           NaN           NaN           NaN           NaN   \n",
      "3           NaN           NaN           NaN           NaN           NaN   \n",
      "4           NaN           NaN           NaN           NaN           NaN   \n",
      "\n",
      "   L3_S51_F4262  Response  \n",
      "0           NaN         0  \n",
      "1           NaN         0  \n",
      "2           NaN         0  \n",
      "3           NaN         0  \n",
      "4           NaN         0  \n",
      "\n",
      "[5 rows x 970 columns]\n"
     ]
    }
   ],
   "source": [
    "import pandas as pd\n",
    "\n",
    "df = pd.read_csv(\"./bosch_data/train_numeric.csv.zip\", nrows=50000)\n",
    "\n",
    "print(df.shape)\n",
    "print(df.head())\n"
   ]
  },
  {
   "cell_type": "code",
   "execution_count": 27,
   "id": "58f9f51c-128c-440a-b36b-5643ecc4297b",
   "metadata": {},
   "outputs": [
    {
     "name": "stdout",
     "output_type": "stream",
     "text": [
      "   Response synthetic_timestamp\n",
      "0         0 2021-01-01 00:00:00\n",
      "1         0 2021-01-01 00:00:01\n",
      "2         0 2021-01-01 00:00:02\n",
      "3         0 2021-01-01 00:00:03\n",
      "4         0 2021-01-01 00:00:04\n"
     ]
    }
   ],
   "source": [
    "import pandas as pd\n",
    "\n",
    "# Ensure 'Response' column exists\n",
    "if 'Response' in df.columns:\n",
    "    start_date = pd.to_datetime(\"2021-01-01 00:00:00\")\n",
    "    df['synthetic_timestamp'] = [start_date + pd.Timedelta(seconds=i) for i in range(len(df))]\n",
    "    print(df[['Response', 'synthetic_timestamp']].head())\n",
    "else:\n",
    "    print(\"Response column not found in this subset!\")\n"
   ]
  },
  {
   "cell_type": "code",
   "execution_count": 33,
   "id": "0680ad22-241a-45d2-a841-eb207563776f",
   "metadata": {},
   "outputs": [
    {
     "name": "stdout",
     "output_type": "stream",
     "text": [
      "Train shape: (30000, 971)\n",
      "Test shape: (10000, 971)\n",
      "Simulation shape: (10000, 971)\n",
      "2021-01-01 00:00:00 -> 2021-01-01 08:19:59\n",
      "2021-01-01 08:20:00 -> 2021-01-01 11:06:39\n",
      "2021-01-01 11:06:40 -> 2021-01-01 13:53:19\n"
     ]
    }
   ],
   "source": [
    "# Sort by timestamp just in case\n",
    "df = df.sort_values(\"synthetic_timestamp\").reset_index(drop=True)\n",
    "\n",
    "# Compute split indices\n",
    "n = len(df)\n",
    "train_end = int(0.6 * n)\n",
    "test_end  = int(0.8 * n)\n",
    "\n",
    "# Create splits\n",
    "train_data = df.iloc[:train_end]\n",
    "test_data  = df.iloc[train_end:test_end]\n",
    "sim_data   = df.iloc[test_end:]\n",
    "\n",
    "print(\"Train shape:\", train_data.shape)\n",
    "print(\"Test shape:\", test_data.shape)\n",
    "print(\"Simulation shape:\", sim_data.shape)\n",
    "\n",
    "# Quick check\n",
    "print(train_data['synthetic_timestamp'].min(), \"->\", train_data['synthetic_timestamp'].max())\n",
    "print(test_data['synthetic_timestamp'].min(), \"->\", test_data['synthetic_timestamp'].max())\n",
    "print(sim_data['synthetic_timestamp'].min(), \"->\", sim_data['synthetic_timestamp'].max())\n"
   ]
  },
  {
   "cell_type": "code",
   "execution_count": 41,
   "id": "55f955aa-7510-4748-8cc0-eaa5b6d3eea8",
   "metadata": {},
   "outputs": [
    {
     "name": "stderr",
     "output_type": "stream",
     "text": [
      "C:\\Users\\Garima Joshi\\anaconda3\\Lib\\site-packages\\xgboost\\training.py:183: UserWarning: [01:32:12] WARNING: C:\\actions-runner\\_work\\xgboost\\xgboost\\src\\learner.cc:738: \n",
      "Parameters: { \"use_label_encoder\" } are not used.\n",
      "\n",
      "  bst.update(dtrain, iteration=i, fobj=obj)\n"
     ]
    },
    {
     "name": "stdout",
     "output_type": "stream",
     "text": [
      "Accuracy : 0.9949\n",
      "Precision: 0.0\n",
      "Recall   : 0.0\n",
      "F1 Score : 0.0\n"
     ]
    }
   ],
   "source": [
    "import xgboost as xgb\n",
    "from sklearn.metrics import accuracy_score, precision_score, recall_score, f1_score\n",
    "\n",
    "# Separate features & target\n",
    "X_train = train_data.drop(columns=['Response', 'synthetic_timestamp'])\n",
    "y_train = train_data['Response']\n",
    "\n",
    "X_test = test_data.drop(columns=['Response', 'synthetic_timestamp'])\n",
    "y_test = test_data['Response']\n",
    "\n",
    "# Train model\n",
    "model = xgb.XGBClassifier(use_label_encoder=False, eval_metric=\"logloss\")\n",
    "model.fit(X_train, y_train)\n",
    "\n",
    "# Predictions\n",
    "y_pred = model.predict(X_test)\n",
    "\n",
    "# Evaluate\n",
    "print(\"Accuracy :\", accuracy_score(y_test, y_pred))\n",
    "print(\"Precision:\", precision_score(y_test, y_pred, zero_division=0))\n",
    "print(\"Recall   :\", recall_score(y_test, y_pred, zero_division=0))\n",
    "print(\"F1 Score :\", f1_score(y_test, y_pred, zero_division=0))\n"
   ]
  },
  {
   "cell_type": "code",
   "execution_count": 43,
   "id": "3946d5e3-7fca-4e4e-a60c-46cb3a40dd09",
   "metadata": {},
   "outputs": [
    {
     "name": "stdout",
     "output_type": "stream",
     "text": [
      "Class distribution → Negative: 29831, Positive: 169, Scale weight: 176.51\n"
     ]
    },
    {
     "name": "stderr",
     "output_type": "stream",
     "text": [
      "C:\\Users\\Garima Joshi\\anaconda3\\Lib\\site-packages\\xgboost\\training.py:183: UserWarning: [01:34:57] WARNING: C:\\actions-runner\\_work\\xgboost\\xgboost\\src\\learner.cc:738: \n",
      "Parameters: { \"use_label_encoder\" } are not used.\n",
      "\n",
      "  bst.update(dtrain, iteration=i, fobj=obj)\n"
     ]
    },
    {
     "name": "stdout",
     "output_type": "stream",
     "text": [
      "Accuracy : 0.994\n",
      "Precision: 0.14285714285714285\n",
      "Recall   : 0.04\n",
      "F1 Score : 0.0625\n"
     ]
    }
   ],
   "source": [
    "import numpy as np\n",
    "import xgboost as xgb\n",
    "from sklearn.metrics import accuracy_score, precision_score, recall_score, f1_score\n",
    "\n",
    "# Separate features & target\n",
    "X_train = train_data.drop(columns=['Response', 'synthetic_timestamp'])\n",
    "y_train = train_data['Response']\n",
    "\n",
    "X_test = test_data.drop(columns=['Response', 'synthetic_timestamp'])\n",
    "y_test = test_data['Response']\n",
    "\n",
    "# Compute imbalance ratio\n",
    "neg, pos = np.bincount(y_train)\n",
    "scale_pos_weight = neg / pos if pos > 0 else 1\n",
    "print(f\"Class distribution → Negative: {neg}, Positive: {pos}, Scale weight: {scale_pos_weight:.2f}\")\n",
    "\n",
    "# Train model with scale_pos_weight\n",
    "model = xgb.XGBClassifier(\n",
    "    eval_metric=\"logloss\",\n",
    "    scale_pos_weight=scale_pos_weight,\n",
    "    use_label_encoder=False\n",
    ")\n",
    "model.fit(X_train, y_train)\n",
    "\n",
    "# Predictions\n",
    "y_pred = model.predict(X_test)\n",
    "\n",
    "# Evaluate\n",
    "print(\"Accuracy :\", accuracy_score(y_test, y_pred))\n",
    "print(\"Precision:\", precision_score(y_test, y_pred, zero_division=0))\n",
    "print(\"Recall   :\", recall_score(y_test, y_pred, zero_division=0))\n",
    "print(\"F1 Score :\", f1_score(y_test, y_pred, zero_division=0))\n",
    "\n"
   ]
  },
  {
   "cell_type": "code",
   "execution_count": 45,
   "id": "609da038-2234-4ab8-9d7f-3471166bf059",
   "metadata": {},
   "outputs": [
    {
     "name": "stdout",
     "output_type": "stream",
     "text": [
      "Class distribution → Negative: 29831, Positive: 169, Scale weight: 176.51\n"
     ]
    },
    {
     "name": "stderr",
     "output_type": "stream",
     "text": [
      "C:\\Users\\Garima Joshi\\anaconda3\\Lib\\site-packages\\xgboost\\training.py:183: UserWarning: [01:38:28] WARNING: C:\\actions-runner\\_work\\xgboost\\xgboost\\src\\learner.cc:738: \n",
      "Parameters: { \"use_label_encoder\" } are not used.\n",
      "\n",
      "  bst.update(dtrain, iteration=i, fobj=obj)\n"
     ]
    },
    {
     "name": "stdout",
     "output_type": "stream",
     "text": [
      "\n",
      "📊 Evaluation Metrics\n",
      "Accuracy : 0.9931\n",
      "Precision: 0.0\n",
      "Recall   : 0.0\n",
      "F1 Score : 0.0\n"
     ]
    },
    {
     "data": {
      "image/png": "[encoded data removed]",
      "text/plain": [
       "<Figure size 640x480 with 2 Axes>"
      ]
     },
     "metadata": {},
     "output_type": "display_data"
    }
   ],
   "source": [
    "import numpy as np\n",
    "import xgboost as xgb\n",
    "from sklearn.metrics import accuracy_score, precision_score, recall_score, f1_score, confusion_matrix, ConfusionMatrixDisplay\n",
    "import matplotlib.pyplot as plt\n",
    "\n",
    "# ----------------------------\n",
    "# Features & Target\n",
    "# ----------------------------\n",
    "X_train = train_data.drop(columns=['Response', 'synthetic_timestamp'])\n",
    "y_train = train_data['Response']\n",
    "\n",
    "X_test = test_data.drop(columns=['Response', 'synthetic_timestamp'])\n",
    "y_test = test_data['Response']\n",
    "\n",
    "# ----------------------------\n",
    "# Handle Class Imbalance\n",
    "# ----------------------------\n",
    "neg, pos = np.bincount(y_train)\n",
    "scale_pos_weight = neg / pos if pos > 0 else 1\n",
    "print(f\"Class distribution → Negative: {neg}, Positive: {pos}, Scale weight: {scale_pos_weight:.2f}\")\n",
    "\n",
    "# ----------------------------\n",
    "# Train XGBoost Model\n",
    "# ----------------------------\n",
    "model = xgb.XGBClassifier(\n",
    "    eval_metric=\"logloss\",\n",
    "    scale_pos_weight=scale_pos_weight,\n",
    "    max_depth=5,\n",
    "    learning_rate=0.1,\n",
    "    n_estimators=300,\n",
    "    subsample=0.8,\n",
    "    colsample_bytree=0.8,\n",
    "    random_state=42,\n",
    "    use_label_encoder=False\n",
    ")\n",
    "\n",
    "model.fit(X_train, y_train)\n",
    "\n",
    "# ----------------------------\n",
    "# Evaluate Model\n",
    "# ----------------------------\n",
    "y_pred = model.predict(X_test)\n",
    "\n",
    "acc = accuracy_score(y_test, y_pred)\n",
    "prec = precision_score(y_test, y_pred, zero_division=0)\n",
    "rec = recall_score(y_test, y_pred, zero_division=0)\n",
    "f1 = f1_score(y_test, y_pred, zero_division=0)\n",
    "\n",
    "print(\"\\n📊 Evaluation Metrics\")\n",
    "print(\"Accuracy :\", round(acc, 4))\n",
    "print(\"Precision:\", round(prec, 4))\n",
    "print(\"Recall   :\", round(rec, 4))\n",
    "print(\"F1 Score :\", round(f1, 4))\n",
    "\n",
    "# ----------------------------\n",
    "# Confusion Matrix\n",
    "# ----------------------------\n",
    "cm = confusion_matrix(y_test, y_pred, labels=[0,1])\n",
    "disp = ConfusionMatrixDisplay(confusion_matrix=cm, display_labels=[\"Pass (0)\", \"Fail (1)\"])\n",
    "disp.plot(cmap=plt.cm.Blues)\n",
    "plt.title(\"Confusion Matrix\")\n",
    "plt.show()\n"
   ]
  },
  {
   "cell_type": "code",
   "execution_count": 47,
   "id": "b461e07a-2a86-4ee6-8907-4594de0b48cf",
   "metadata": {},
   "outputs": [
    {
     "name": "stdout",
     "output_type": "stream",
     "text": [
      "Class distribution → Negative: 29831, Positive: 169, Scale weight: 176.51\n"
     ]
    },
    {
     "name": "stderr",
     "output_type": "stream",
     "text": [
      "C:\\Users\\Garima Joshi\\anaconda3\\Lib\\site-packages\\xgboost\\training.py:183: UserWarning: [01:42:16] WARNING: C:\\actions-runner\\_work\\xgboost\\xgboost\\src\\learner.cc:738: \n",
      "Parameters: { \"use_label_encoder\" } are not used.\n",
      "\n",
      "  bst.update(dtrain, iteration=i, fobj=obj)\n"
     ]
    },
    {
     "name": "stdout",
     "output_type": "stream",
     "text": [
      "\n",
      "📊 Evaluation Metrics (Threshold=0.1)\n",
      "Accuracy : 0.9722\n",
      "Precision: 0.0128\n",
      "Recall   : 0.06\n",
      "F1 Score : 0.0211\n"
     ]
    },
    {
     "data": {
      "image/png": "[encoded data removed]",
      "text/plain": [
       "<Figure size 640x480 with 2 Axes>"
      ]
     },
     "metadata": {},
     "output_type": "display_data"
    }
   ],
   "source": [
    "import numpy as np\n",
    "import xgboost as xgb\n",
    "from sklearn.metrics import accuracy_score, precision_score, recall_score, f1_score, confusion_matrix, ConfusionMatrixDisplay\n",
    "import matplotlib.pyplot as plt\n",
    "\n",
    "# ----------------------------\n",
    "# Features & Target\n",
    "# ----------------------------\n",
    "X_train = train_data.drop(columns=['Response', 'synthetic_timestamp'])\n",
    "y_train = train_data['Response']\n",
    "\n",
    "X_test = test_data.drop(columns=['Response', 'synthetic_timestamp'])\n",
    "y_test = test_data['Response']\n",
    "\n",
    "# ----------------------------\n",
    "# Handle Class Imbalance\n",
    "# ----------------------------\n",
    "neg, pos = np.bincount(y_train)\n",
    "scale_pos_weight = neg / pos if pos > 0 else 1\n",
    "print(f\"Class distribution → Negative: {neg}, Positive: {pos}, Scale weight: {scale_pos_weight:.2f}\")\n",
    "\n",
    "# ----------------------------\n",
    "# Train XGBoost Model\n",
    "# ----------------------------\n",
    "model = xgb.XGBClassifier(\n",
    "    eval_metric=\"logloss\",\n",
    "    scale_pos_weight=scale_pos_weight,\n",
    "    max_depth=5,\n",
    "    learning_rate=0.1,\n",
    "    n_estimators=300,\n",
    "    subsample=0.8,\n",
    "    colsample_bytree=0.8,\n",
    "    random_state=42,\n",
    "    use_label_encoder=False\n",
    ")\n",
    "\n",
    "model.fit(X_train, y_train)\n",
    "\n",
    "# ----------------------------\n",
    "# Predict with custom threshold\n",
    "# ----------------------------\n",
    "y_proba = model.predict_proba(X_test)[:, 1]\n",
    "\n",
    "# Lower threshold from 0.5 → 0.1\n",
    "threshold = 0.1\n",
    "y_pred = (y_proba > threshold).astype(int)\n",
    "\n",
    "# ----------------------------\n",
    "# Evaluate Model\n",
    "# ----------------------------\n",
    "acc = accuracy_score(y_test, y_pred)\n",
    "prec = precision_score(y_test, y_pred, zero_division=0)\n",
    "rec = recall_score(y_test, y_pred, zero_division=0)\n",
    "f1 = f1_score(y_test, y_pred, zero_division=0)\n",
    "\n",
    "print(f\"\\n📊 Evaluation Metrics (Threshold={threshold})\")\n",
    "print(\"Accuracy :\", round(acc, 4))\n",
    "print(\"Precision:\", round(prec, 4))\n",
    "print(\"Recall   :\", round(rec, 4))\n",
    "print(\"F1 Score :\", round(f1, 4))\n",
    "\n",
    "# ----------------------------\n",
    "# Confusion Matrix\n",
    "# ----------------------------\n",
    "cm = confusion_matrix(y_test, y_pred, labels=[0,1])\n",
    "disp = ConfusionMatrixDisplay(confusion_matrix=cm, display_labels=[\"Pass (0)\", \"Fail (1)\"])\n",
    "disp.plot(cmap=plt.cm.Blues)\n",
    "plt.title(f\"Confusion Matrix (Threshold={threshold})\")\n",
    "plt.show()\n"
   ]
  },
  {
   "cell_type": "code",
   "execution_count": 49,
   "id": "1e76e24d-7074-4cc2-a847-b347057963da",
   "metadata": {},
   "outputs": [
    {
     "name": "stdout",
     "output_type": "stream",
     "text": [
      "Best Threshold = 0.0132\n",
      "AUC = 0.5740\n",
      "\n",
      "📊 Evaluation Metrics (Best Threshold)\n",
      "Accuracy : 0.8119\n",
      "Precision: 0.0096\n",
      "Recall   : 0.36\n",
      "F1 Score : 0.0188\n"
     ]
    },
    {
     "data": {
      "image/png": "[encoded data removed]",
      "text/plain": [
       "<Figure size 600x600 with 1 Axes>"
      ]
     },
     "metadata": {},
     "output_type": "display_data"
    }
   ],
   "source": [
    "from sklearn.metrics import roc_curve, auc\n",
    "\n",
    "# Get prediction probabilities\n",
    "y_proba = model.predict_proba(X_test)[:, 1]\n",
    "\n",
    "# Compute ROC curve\n",
    "fpr, tpr, thresholds = roc_curve(y_test, y_proba)\n",
    "roc_auc = auc(fpr, tpr)\n",
    "\n",
    "# Find best threshold (maximize tpr - fpr)\n",
    "j_scores = tpr - fpr\n",
    "j_best_idx = np.argmax(j_scores)\n",
    "best_threshold = thresholds[j_best_idx]\n",
    "\n",
    "print(f\"Best Threshold = {best_threshold:.4f}\")\n",
    "print(f\"AUC = {roc_auc:.4f}\")\n",
    "\n",
    "# Apply best threshold\n",
    "y_pred = (y_proba > best_threshold).astype(int)\n",
    "\n",
    "# Evaluate again\n",
    "acc = accuracy_score(y_test, y_pred)\n",
    "prec = precision_score(y_test, y_pred, zero_division=0)\n",
    "rec = recall_score(y_test, y_pred, zero_division=0)\n",
    "f1 = f1_score(y_test, y_pred, zero_division=0)\n",
    "\n",
    "print(\"\\n📊 Evaluation Metrics (Best Threshold)\")\n",
    "print(\"Accuracy :\", round(acc, 4))\n",
    "print(\"Precision:\", round(prec, 4))\n",
    "print(\"Recall   :\", round(rec, 4))\n",
    "print(\"F1 Score :\", round(f1, 4))\n",
    "\n",
    "# Plot ROC curve\n",
    "plt.figure(figsize=(6,6))\n",
    "plt.plot(fpr, tpr, label=f\"ROC curve (AUC = {roc_auc:.4f})\")\n",
    "plt.scatter(fpr[j_best_idx], tpr[j_best_idx], color='red', label=f\"Best Threshold={best_threshold:.2f}\")\n",
    "plt.plot([0,1], [0,1], 'k--')\n",
    "plt.xlabel(\"False Positive Rate\")\n",
    "plt.ylabel(\"True Positive Rate (Recall)\")\n",
    "plt.title(\"ROC Curve with Best Threshold\")\n",
    "plt.legend()\n",
    "plt.show()\n"
   ]
  },
  {
   "cell_type": "code",
   "execution_count": null,
   "id": "ae00437f-9f74-49d3-9a60-0f49e1d6502e",
   "metadata": {},
   "outputs": [],
   "source": []
  }
 ],
 "metadata": {
  "kernelspec": {
   "display_name": "Python 3 (ipykernel)",
   "language": "python",
   "name": "python3"
  },
  "language_info": {
   "codemirror_mode": {
    "name": "ipython",
    "version": 3
   },
   "file_extension": ".py",
   "mimetype": "text/x-python",
   "name": "python",
   "nbconvert_exporter": "python",
   "pygments_lexer": "ipython3",
   "version": "3.12.7"
  }
 },
 "nbformat": 4,
 "nbformat_minor": 5
}
